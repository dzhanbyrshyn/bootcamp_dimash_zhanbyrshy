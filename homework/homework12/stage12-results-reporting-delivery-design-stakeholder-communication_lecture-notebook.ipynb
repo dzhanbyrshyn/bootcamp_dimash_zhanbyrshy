{
 "cells": [
  {
   "cell_type": "markdown",
   "id": "0e752d49",
   "metadata": {},
   "source": [
    "# Stage 12: Communicating Analysis & Decisions (Full)\n",
    "\n",
    "**Decisions-first communication**: At each step, we document the choice, rationale, risks, and show outcomes under *alternative choices*.\n",
    "\n",
    "This notebook includes:\n",
    "- Data generation and sensitivity analysis\n",
    "- Decision Log utility\n",
    "- Slide Title Generator\n",
    "- Executive Summary Autodraft\n",
    "- Example chart generation\n",
    "- HTML slides generator (Reveal.js, no PowerPoint required)\n",
    "- Templates and Socratic prompts"
   ]
  },
  {
   "cell_type": "markdown",
   "id": "fe54dd45",
   "metadata": {},
   "source": [
    "## Intro: Context, Audience, Core Questions\n",
    "\n",
    "In this stage we:\n",
    "- Convert technical results into actionable insights.\n",
    "- Consider multiple stakeholders: technical peers, executives, PMs.\n",
    "- Ask: \n",
    "    - What decisions does the stakeholder need to make?\n",
    "    - What assumptions must be communicated?\n",
    "    - How would alternate choices impact results?"
   ]
  },
  {
   "cell_type": "markdown",
   "id": "ee48c731",
   "metadata": {},
   "source": [
    "## 1) Setup & Data Generation"
   ]
  },
  {
   "cell_type": "code",
   "execution_count": null,
   "id": "0d7cff1c",
   "metadata": {},
   "outputs": [],
   "source": [
    "import os, json\n",
    "import numpy as np, pandas as pd\n",
    "from pathlib import Path\n",
    "import matplotlib.pyplot as plt\n",
    "\n",
    "\n",
    "# Ensure folder structure relative to this notebook (assumes it lives in notebooks/)\n",
    "os.makedirs('../data/raw', exist_ok=True)\n",
    "os.makedirs('outputs', exist_ok=True)\n",
    "\n",
    "# Generate synthetic dataset with outliers (tweak as needed)\n",
    "np.random.seed(42)\n",
    "n = 200\n",
    "feature_1 = np.random.normal(50, 10, n)\n",
    "feature_2 = feature_1 * 0.5 + np.random.normal(0, 5, n)\n",
    "target    = 3 * feature_1 + 2 * feature_2 + np.random.normal(0, 15, n)\n",
    "\n",
    "# Inject some outliers to make winsorization meaningful\n",
    "feature_1[:5] *= 3\n",
    "feature_2[:5] *= 4\n",
    "target[:5]    *= 2\n",
    "\n",
    "df = pd.DataFrame({'feature_1': feature_1, 'feature_2': feature_2, 'target': target})\n",
    "data_path = '../data/raw/sample_data.csv'\n",
    "df.to_csv(data_path, index=False)\n",
    "print(f'Data saved to {data_path}')\n",
    "df.head()"
   ]
  },
  {
   "cell_type": "markdown",
   "id": "50455476",
   "metadata": {},
   "source": [
    "## Warm-up: Good vs Bad Visuals / Slides"
   ]
  },
  {
   "cell_type": "code",
   "execution_count": null,
   "id": "b173b87d",
   "metadata": {},
   "outputs": [],
   "source": [
    "# Example bad vs good chart comparison\n",
    "fig, axs = plt.subplots(1,2, figsize=(12,4))\n",
    "\n",
    "# Bad chart: no labels, random colors\n",
    "axs[0].scatter(df['feature_1'], df['target'], c='red', alpha=0.2)\n",
    "axs[0].set_title('Bad Chart')\n",
    "\n",
    "# Good chart: labels, title, annotation\n",
    "axs[1].scatter(df['feature_1'], df['target'], c='blue', alpha=0.6)\n",
    "axs[1].set_title('Good Chart: Feature 1 vs Target')\n",
    "axs[1].set_xlabel('Feature 1')\n",
    "axs[1].set_ylabel('Target')\n",
    "plt.tight_layout()\n",
    "plt.show()"
   ]
  },
  {
   "cell_type": "markdown",
   "id": "50526e6e",
   "metadata": {},
   "source": [
    "## 2) Decision Log Utility"
   ]
  },
  {
   "cell_type": "code",
   "execution_count": null,
   "id": "c5fc0675",
   "metadata": {},
   "outputs": [],
   "source": [
    "import pandas as pd\n",
    "from datetime import datetime\n",
    "\n",
    "class DecisionLog:\n",
    "    def __init__(self):\n",
    "        self.entries = []\n",
    "\n",
    "    def add(self, step, decision, rationale, alternatives, risk, impact_note=\"\"):\n",
    "        self.entries.append({\n",
    "            \"timestamp\": datetime.now().isoformat(timespec=\"seconds\"),\n",
    "            \"Step\": step,\n",
    "            \"Decision\": decision,\n",
    "            \"Rationale\": rationale,\n",
    "            \"Alternatives\": alternatives,\n",
    "            \"Risk\": risk,\n",
    "            \"Impact\": impact_note\n",
    "        })\n",
    "\n",
    "    def to_df(self):\n",
    "        return pd.DataFrame(self.entries) if self.entries else pd.DataFrame(\n",
    "            columns=[\"timestamp\",\"Step\",\"Decision\",\"Rationale\",\"Alternatives\",\"Risk\",\"Impact\"]\n",
    "        )\n",
    "    \n",
    "    def save(self, path='outputs/decision_log.json'):\n",
    "        import json, os\n",
    "        os.makedirs(os.path.dirname(path), exist_ok=True)\n",
    "        with open(path, \"w\") as f:\n",
    "            json.dump(self.entries, f, indent=2)\n",
    "        return path\n",
    "\n",
    "decision_log = DecisionLog()\n",
    "decision_log.to_df()"
   ]
  },
  {
   "cell_type": "markdown",
   "id": "2b6f3789",
   "metadata": {},
   "source": [
    "## 3) Sensitivity Analysis: Outlier Handling"
   ]
  },
  {
   "cell_type": "code",
   "execution_count": null,
   "id": "e497ad8e",
   "metadata": {},
   "outputs": [],
   "source": [
    "from scipy.stats.mstats import winsorize\n",
    "import statsmodels.api as sm\n",
    "import matplotlib.pyplot as plt\n",
    "\n",
    "# Build scenarios\n",
    "scenarios = {\n",
    "    \"none\": df.copy(),\n",
    "    \"winsor_10_90\": df.copy(),\n",
    "    \"winsor_05_95\": df.copy()\n",
    "}\n",
    "\n",
    "scenarios[\"winsor_10_90\"][\"feature_1\"] = winsorize(df[\"feature_1\"], limits=(0.10, 0.10))\n",
    "scenarios[\"winsor_10_90\"][\"feature_2\"] = winsorize(df[\"feature_2\"], limits=(0.10, 0.10))\n",
    "\n",
    "scenarios[\"winsor_05_95\"][\"feature_1\"] = winsorize(df[\"feature_1\"], limits=(0.05, 0.05))\n",
    "scenarios[\"winsor_05_95\"][\"feature_2\"] = winsorize(df[\"feature_2\"], limits=(0.05, 0.05))\n",
    "\n",
    "# Fit and summarize\n",
    "results = {}\n",
    "for name, data in scenarios.items():\n",
    "    X = sm.add_constant(data[[\"feature_1\",\"feature_2\"]])\n",
    "    y = data[\"target\"]\n",
    "    model = sm.OLS(y, X).fit()\n",
    "    results[name] = {\n",
    "        \"R2\": float(model.rsquared),\n",
    "        \"MAE\": float(abs(model.resid).mean()),\n",
    "        \"Params\": model.params.to_dict()\n",
    "    }\n",
    "\n",
    "import pprint; pprint.pprint(results)\n",
    "pd.DataFrame(results).T"
   ]
  },
  {
   "cell_type": "markdown",
   "id": "25c3c324",
   "metadata": {},
   "source": [
    "## 4) Visual comparison and decision logging"
   ]
  },
  {
   "cell_type": "code",
   "execution_count": null,
   "id": "891cf55d",
   "metadata": {},
   "outputs": [],
   "source": [
    "# Visualize three scenarios side by side and save a comparison image\n",
    "fig, ax = plt.subplots(1,3, figsize=(15,4))\n",
    "names = [\"none\",\"winsor_10_90\",\"winsor_05_95\"]\n",
    "\n",
    "for idx, name in enumerate(names):\n",
    "    data = scenarios[name]\n",
    "    X = sm.add_constant(data[[\"feature_1\",\"feature_2\"]])\n",
    "    y = data[\"target\"]\n",
    "    m = sm.OLS(y, X).fit()\n",
    "    yhat = m.predict(X)\n",
    "    ax[idx].scatter(y, yhat, alpha=0.6)\n",
    "    ax[idx].plot([y.min(), y.max()], [y.min(), y.max()], 'r--')\n",
    "    ax[idx].set_title(name)\n",
    "    ax[idx].set_xlabel(\"Actual\")\n",
    "    ax[idx].set_ylabel(\"Predicted\")\n",
    "\n",
    "plt.tight_layout()\n",
    "plt.savefig('outputs/scenario_comparison.png', dpi=300)\n",
    "plt.show()\n",
    "\n",
    "# Choose winsor 10/90 as the teaching example and log it\n",
    "decision_log.add(\n",
    "    step=\"Outlier Handling\",\n",
    "    decision=\"Winsorize at 10th/90th percentiles\",\n",
    "    rationale=\"Reduces undue leverage from extreme points while retaining overall distribution shape.\",\n",
    "    alternatives=\"None; Winsorize at 5th/95th\",\n",
    "    risk=\"If extreme values represent true business conditions, we may understate risk/volatility.\",\n",
    "    impact_note=\"Improved MAE vs 'none'; directionally consistent coefficients across scenarios.\"\n",
    ")\n",
    "decision_log.save()"
   ]
  },
  {
   "cell_type": "markdown",
   "id": "e010c91f",
   "metadata": {},
   "source": [
    "## 5) Slide Title Generator (from Decision Log)"
   ]
  },
  {
   "cell_type": "code",
   "execution_count": null,
   "id": "b7cdb9db",
   "metadata": {},
   "outputs": [],
   "source": [
    "def suggest_slide_titles(decisions_df: pd.DataFrame):\n",
    "    titles = []\n",
    "    if decisions_df is None or decisions_df.empty:\n",
    "        return [\"Executive Summary\",\n",
    "                \"Context & Problem\",\n",
    "                \"Method (High Level)\",\n",
    "                \"Key Results\",\n",
    "                \"Assumptions & Risks\",\n",
    "                \"Sensitivity (What-if Scenarios)\",\n",
    "                \"Decisions Enabled & Next Steps\"]\n",
    "    # Always include core storyline slides\n",
    "    titles.extend([\n",
    "        \"Executive Summary\",\n",
    "        \"Context & Problem\",\n",
    "        \"Method (High Level)\",\n",
    "        \"Key Results\"\n",
    "    ])\n",
    "    # Add one slide per decision step\n",
    "    for step in decisions_df[\"Step\"].astype(str).unique():\n",
    "        titles.append(f\"Decision: {step}\")\n",
    "    # Close with risk/sensitivity/action\n",
    "    titles.extend([\n",
    "        \"Assumptions & Risks\",\n",
    "        \"Sensitivity (What-if Scenarios)\",\n",
    "        \"Decisions Enabled & Next Steps\"\n",
    "    ])\n",
    "    return titles\n",
    "\n",
    "titles = suggest_slide_titles(decision_log.to_df())\n",
    "pd.Series(titles, name=\"Suggested Slide Titles\")"
   ]
  },
  {
   "cell_type": "markdown",
   "id": "5791e790",
   "metadata": {},
   "source": [
    "## 6) Executive Summary — Autodraft"
   ]
  },
  {
   "cell_type": "code",
   "execution_count": null,
   "id": "a868fd43",
   "metadata": {},
   "outputs": [],
   "source": [
    "def autodraft_executive_summary(results_dict, decisions_df: pd.DataFrame):\n",
    "    def fmt_params(p):\n",
    "        for k, v in p.items():\n",
    "            print(f\"{k}: {v} ({type(v)})\")  # Debug line\n",
    "        return \", \".join([\n",
    "            f\"{k}: {v:.2f}\" if isinstance(v, (int, float)) else f\"{k}: {v}\"\n",
    "            for k, v in p.items()\n",
    "        ])\n",
    "\n",
    "    lines = []\n",
    "    lines.append(\"## Executive Summary\\n\")\n",
    "    lines.append(\"- **Objective**: Translate model results into decisions; expose assumptions and sensitivity.\")\n",
    "\n",
    "    chosen = \"winsor_10_90\" if \"winsor_10_90\" in results_dict else list(results_dict.keys())[0]\n",
    "    r = results_dict[chosen]\n",
    "    lines.append(f\"- **Key Finding**: Under {chosen.replace('_',' ')}, R² = {r['R2']:.3f}, MAE = {r['MAE']:.2f}.\")\n",
    "    lines.append(f\"  Coefficients → {fmt_params(r['Params'])}\")\n",
    "\n",
    "    if len(results_dict) > 1:\n",
    "        base = r\n",
    "        comp_text = []\n",
    "        for name, rr in results_dict.items():\n",
    "            if name == chosen: \n",
    "                continue\n",
    "            comp_text.append(f\"{name.replace('_',' ')} (R² {rr['R2']:.3f}, MAE {rr['MAE']:.2f})\")\n",
    "        if comp_text:\n",
    "            lines.append(f\"- **Sensitivity**: Alternatives → \" + \"; \".join(comp_text) + \".\")\n",
    "\n",
    "    if decisions_df is not None and not decisions_df.empty:\n",
    "        for _, row in decisions_df.iterrows():\n",
    "            lines.append(f\"- **Decision**: {row['Decision']} — *Why*: {row['Rationale']}. \")\n",
    "            if str(row['Alternatives']).strip():\n",
    "                lines.append(f\"  Alternatives considered: {row['Alternatives']}.\")\n",
    "            if str(row['Risk']).strip():\n",
    "                lines.append(f\"  Risks: {row['Risk']}.\")\n",
    "\n",
    "    return '\\n'.join(lines)\n",
    "\n",
    "summary_md = autodraft_executive_summary(results, decision_log.to_df())\n",
    "with open('outputs/executive_summary.md', 'w', encoding='utf-8') as f:\n",
    "    f.write(summary_md)\n",
    "summary_md[:600]"
   ]
  },
  {
   "cell_type": "markdown",
   "id": "f8d8a419",
   "metadata": {},
   "source": [
    "## 6b) Example Chart Generation"
   ]
  },
  {
   "cell_type": "code",
   "execution_count": null,
   "id": "ca652231",
   "metadata": {},
   "outputs": [],
   "source": [
    "plt.figure(figsize=(6,4))\n",
    "plt.scatter(df['feature_1'], df['target'], alpha=0.6)\n",
    "plt.xlabel('Feature 1')\n",
    "plt.ylabel('Target')\n",
    "plt.title('Example Chart: Feature 1 vs Target')\n",
    "example_chart_path = 'outputs/example_chart.png'\n",
    "plt.savefig(example_chart_path, dpi=300)\n",
    "plt.show()\n",
    "print(f'Example chart saved to {example_chart_path}')"
   ]
  },
  {
   "cell_type": "markdown",
   "id": "60ebdf62",
   "metadata": {},
   "source": [
    "## 7) HTML Slides Generator (Reveal.js, auto-include images)"
   ]
  },
  {
   "cell_type": "code",
   "execution_count": null,
   "id": "48cc1825",
   "metadata": {},
   "outputs": [],
   "source": [
    "import textwrap\n",
    "\n",
    "def build_html_slides(slide_titles, summary_md, output_html='outputs/decision_summary_slides.html'):\n",
    "    Path('outputs').mkdir(exist_ok=True)\n",
    "    images = sorted([str(p) for p in Path('outputs').glob('*.png')])\n",
    "    image_section = \"\"\n",
    "    for img in images:\n",
    "        image_section += f'<section><h2>Visual</h2><img src=\"{img}\" style=\"max-width:90%; margin:12px auto; display:block;\" /></section>\\n'\n",
    "\n",
    "    toc_list = \"\".join([f\"<li>{t}</li>\" for t in slide_titles])\n",
    "\n",
    "\n",
    "    html = textwrap.dedent(f\"\"\"\\\n",
    "        <!doctype html>\n",
    "        <html>\n",
    "        <head>\n",
    "          <meta charset=\"utf-8\">\n",
    "          <title>Decision Summary Slides</title>\n",
    "          <meta name=\"viewport\" content=\"width=device-width, initial-scale=1.0\">\n",
    "          <link rel=\"stylesheet\" href=\"https://cdnjs.cloudflare.com/ajax/libs/reveal.js/4.5.0/reveal.min.css\">\n",
    "          <link rel=\"stylesheet\" href=\"https://cdnjs.cloudflare.com/ajax/libs/reveal.js/4.5.0/theme/white.min.css\">\n",
    "        </head>\n",
    "        <body>\n",
    "        <div class=\"reveal\">\n",
    "          <div class=\"slides\">\n",
    "            <section>\n",
    "              <h1>Executive Summary</h1>\n",
    "              <pre style=\"white-space: pre-wrap; font-size: 0.9em;\">{summary_md}</pre>\n",
    "            </section>\n",
    "            <section>\n",
    "              <h2>Outline</h2>\n",
    "              <ul>{toc_list}</ul>\n",
    "            </section>\"\"\"+\n",
    "            str(image_section) +\n",
    "        \"\"\"\n",
    "              </div>\n",
    "            </div>\n",
    "            <script src=\"https://cdnjs.cloudflare.com/ajax/libs/reveal.js/4.5.0/reveal.min.js\"></script>\n",
    "            <script>\n",
    "              Reveal.initialize({ hash: true });\n",
    "            </script>\n",
    "            </body>\n",
    "            </html>\n",
    "        \"\"\")\n",
    "\n",
    "    with open(output_html, 'w', encoding='utf-8') as f:\n",
    "        f.write(html)\n",
    "    return output_html\n",
    "\n",
    "print(type(summary_md))\n",
    "slides_path = build_html_slides(titles, summary_md)\n",
    "slides_path"
   ]
  },
  {
   "cell_type": "markdown",
   "id": "c3c9d147",
   "metadata": {},
   "source": [
    "## 8) Socratic Discussion Prompts"
   ]
  },
  {
   "cell_type": "markdown",
   "id": "20303088",
   "metadata": {},
   "source": [
    "- Who is your stakeholder?\n",
    "- What decisions are they making from your analysis?\n",
    "- What would confuse or overwhelm them?\n",
    "- What risks do they need to understand?\n",
    "- How would your visualizations look to a non-technical audience?"
   ]
  },
  {
   "cell_type": "markdown",
   "id": "8bd2e621",
   "metadata": {},
   "source": [
    "## 9) Stretch Challenge Instructions\n",
    "- Build your deliverable in **two formats**: one for technical peers, one for executives.\n",
    "- Include one alternate scenario to show impact of assumptions.\n",
    "- Explicitly highlight risks and decisions enabled by the analysis.\n",
    "- Optional: include interactive charts or a mini Dash/Streamlit component for the technical audience."
   ]
  },
  {
   "cell_type": "markdown",
   "id": "6bdb2159",
   "metadata": {},
   "source": [
    "## 10) Optional Dash Demo Starter"
   ]
  },
  {
   "cell_type": "code",
   "execution_count": null,
   "id": "d03b5c03",
   "metadata": {},
   "outputs": [],
   "source": [
    "# Dash demo: very minimal example to show interactive plot\n",
    "import dash\n",
    "from dash import dcc, html\n",
    "import plotly.express as px\n",
    "\n",
    "app = dash.Dash(__name__)\n",
    "\n",
    "fig = px.scatter(df, x='feature_1', y='target', title='Interactive Example')\n",
    "\n",
    "app.layout = html.Div([\n",
    "    html.H1('Dash Demo: Feature vs Target'),\n",
    "    dcc.Graph(figure=fig)\n",
    "])\n",
    "\n",
    "# To run: uncomment the following line\n",
    "app.run(debug=True, port=8000)"
   ]
  },
  {
   "cell_type": "markdown",
   "id": "32da8349",
   "metadata": {},
   "source": [
    "## 11) Pre-flight Checklist"
   ]
  },
  {
   "cell_type": "code",
   "execution_count": null,
   "id": "18ad9adb",
   "metadata": {},
   "outputs": [],
   "source": [
    "from pathlib import Path\n",
    "\n",
    "checks = {\n",
    "    \"Data CSV\": Path(\"../data/raw/sample_data.csv\").exists(),\n",
    "    \"Decision Log\": Path(\"outputs/decision_log.json\").exists() and len(decision_log.to_df())>0,\n",
    "    \"Executive Summary\": Path(\"outputs/executive_summary.md\").exists(),\n",
    "    \"Scenario Comparison Chart\": Path(\"outputs/scenario_comparison.png\").exists(),\n",
    "    \"Example Chart\": Path(\"outputs/example_chart.png\").exists(),\n",
    "    \"HTML Slides\": Path(\"outputs/decision_summary_slides.html\").exists(),\n",
    "    \"Images Included in Outputs\": len(list(Path(\"outputs\").glob(\"*.png\"))) > 0\n",
    "}\n",
    "\n",
    "print(\"✅ Stage 12 Pre-flight Checklist ✅\\n\")\n",
    "for item, ok in checks.items():\n",
    "    status = \"✅\" if ok else \"❌\"\n",
    "    print(f\"{status} {item}\")\n",
    "\n",
    "if all(checks.values()):\n",
    "    print(\"\\nAll checks passed! Your notebook outputs are complete and ready for stakeholder delivery.\")\n",
    "else:\n",
    "    print(\"\\nSome items are missing. Please review the checklist and ensure all outputs are generated before finalizing slides.\")"
   ]
  },
  {
   "cell_type": "code",
   "execution_count": null,
   "id": "ea1f248a-cd45-444a-ae64-68a458aeb9ad",
   "metadata": {},
   "outputs": [],
   "source": []
  }
 ],
 "metadata": {
  "kernelspec": {
   "display_name": "Python 3 (ipykernel)",
   "language": "python",
   "name": "python3"
  },
  "language_info": {
   "codemirror_mode": {
    "name": "ipython",
    "version": 3
   },
   "file_extension": ".py",
   "mimetype": "text/x-python",
   "name": "python",
   "nbconvert_exporter": "python",
   "pygments_lexer": "ipython3",
   "version": "3.10.18"
  }
 },
 "nbformat": 4,
 "nbformat_minor": 5
}
