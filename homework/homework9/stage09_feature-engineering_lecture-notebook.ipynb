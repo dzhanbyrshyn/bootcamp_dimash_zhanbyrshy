{
 "cells": [
  {
   "cell_type": "markdown",
   "id": "eacf6eab",
   "metadata": {},
   "source": [
    "# Stage 09 — Feature Engineering Lecture Notebook\n",
    "\n",
    "In this notebook, we demonstrate simple but powerful feature engineering transformations on a synthetic financial dataset."
   ]
  },
  {
   "cell_type": "code",
   "execution_count": null,
   "id": "f5f4ee4d",
   "metadata": {},
   "outputs": [],
   "source": [
    "import pandas as pd\n",
    "import numpy as np\n",
    "from sklearn.preprocessing import LabelEncoder, PolynomialFeatures\n",
    "\n",
    "# Generate synthetic financial dataset\n",
    "np.random.seed(42)\n",
    "n = 200\n",
    "\n",
    "df = pd.DataFrame({\n",
    "    'customer_id': range(1, n+1),\n",
    "    'income': np.random.normal(60000, 15000, n).astype(int),\n",
    "    'credit_score': np.random.normal(680, 50, n).astype(int),\n",
    "    'monthly_spend': np.random.normal(2000, 600, n).astype(int),\n",
    "    'region': np.random.choice(['North','South','East','West'], n),\n",
    "    'default_flag': np.random.choice([0,1], n, p=[0.8,0.2])\n",
    "})\n",
    "df.head()"
   ]
  },
  {
   "cell_type": "markdown",
   "id": "c4e7fcea",
   "metadata": {},
   "source": [
    "## Basic Transformations"
   ]
  },
  {
   "cell_type": "code",
   "execution_count": null,
   "id": "404ce8e6",
   "metadata": {},
   "outputs": [],
   "source": [
    "# Percent change in monthly spending\n",
    "df['spend_pct_change'] = df['monthly_spend'].pct_change().fillna(0)\n",
    "\n",
    "# Rolling mean of spending (3-month window)\n",
    "df['rolling_spend_mean'] = df['monthly_spend'].rolling(3).mean().fillna(df['monthly_spend'])\n",
    "\n",
    "# Binary flag for high spenders\n",
    "df['high_spender_flag'] = (df['monthly_spend'] > 2500).astype(int)\n",
    "df.head()"
   ]
  },
  {
   "cell_type": "markdown",
   "id": "2a5d2056",
   "metadata": {},
   "source": [
    "## Categorical Encoding"
   ]
  },
  {
   "cell_type": "code",
   "execution_count": null,
   "id": "15b88dd9-a04d-4f80-8913-ce87d6ad2537",
   "metadata": {},
   "outputs": [],
   "source": [
    "df.head(3)"
   ]
  },
  {
   "cell_type": "code",
   "execution_count": null,
   "id": "e328e2bb-3a04-4175-b56e-f468d0497be7",
   "metadata": {},
   "outputs": [],
   "source": [
    "# One-hot encoding\n",
    "df_onehot = pd.get_dummies(df, columns=['region'])\n",
    "df_onehot "
   ]
  },
  {
   "cell_type": "code",
   "execution_count": null,
   "id": "83252b00-6eb9-44f6-ac52-2e3fa32d9edb",
   "metadata": {},
   "outputs": [],
   "source": [
    "# Label encoding\n",
    "le = LabelEncoder()\n",
    "df['region_label'] = le.fit_transform(df['region'])\n",
    "df"
   ]
  },
  {
   "cell_type": "code",
   "execution_count": null,
   "id": "e761c914",
   "metadata": {},
   "outputs": [],
   "source": [
    "# Frequency encoding\n",
    "region_freq = df['region'].value_counts(normalize=True)\n",
    "df['region_freq'] = df['region'].map(region_freq)\n",
    "df[['region','region_label','region_freq']].head()"
   ]
  },
  {
   "cell_type": "markdown",
   "id": "179ca2f4",
   "metadata": {},
   "source": [
    "## Interaction & Polynomial Features"
   ]
  },
  {
   "cell_type": "code",
   "execution_count": null,
   "id": "3c3e7abf",
   "metadata": {},
   "outputs": [],
   "source": [
    "# Interaction feature\n",
    "df['income_x_credit'] = df['income'] * df['credit_score']\n",
    "\n",
    "# Squared feature\n",
    "df['income_squared'] = df['income'] ** 2\n",
    "\n",
    "# Polynomial features using sklearn\n",
    "poly = PolynomialFeatures(degree=2, include_bias=False)\n",
    "poly_features = poly.fit_transform(df[['income','credit_score']])\n",
    "poly_df = pd.DataFrame(poly_features, columns=poly.get_feature_names_out(['income','credit_score']))\n",
    "df = pd.concat([df, poly_df], axis=1)\n",
    "df.head()"
   ]
  },
  {
   "cell_type": "markdown",
   "id": "40de7fa5",
   "metadata": {},
   "source": [
    "## Group Walkthrough Implementation"
   ]
  },
  {
   "cell_type": "code",
   "execution_count": null,
   "id": "be457347",
   "metadata": {},
   "outputs": [],
   "source": [
    "def create_features(df):\n",
    "    \"\"\"\n",
    "    Create engineered features for modeling.\n",
    "    Assumptions:\n",
    "    - Rolling mean of spending captures short-term trends.\n",
    "    - Spend-to-income ratio helps normalize across different income levels.\n",
    "    \"\"\"\n",
    "    df['spend_income_ratio'] = df['monthly_spend'] / df['income']\n",
    "    df['rolling_spend_mean'] = df['monthly_spend'].rolling(3).mean().fillna(df['monthly_spend'])\n",
    "    return df\n",
    "\n",
    "# df = create_features(df)\n",
    "df.head()"
   ]
  },
  {
   "cell_type": "markdown",
   "id": "ae9a95af-2098-4251-bbd1-053a735f37b9",
   "metadata": {},
   "source": [
    "## Feature Engineering Additional Examples\n",
    "Feature engineering can be roughly categorized into 10 types:"
   ]
  },
  {
   "cell_type": "markdown",
   "id": "531c4b73-6676-4aa8-93f7-428b9785fc1b",
   "metadata": {},
   "source": [
    "1. **Combining columns to make a feature** – create new features by combining existing ones.\n",
    "2. **Splitting a column into multiple features** – extract meaningful components from a single feature.\n",
    "3. **Transforming features point by point** – apply math or functions to each value individually.\n",
    "4. **Transforming features by window** – rolling averages, cumulative sums, or other window-based transforms.\n",
    "5. **Splitting continuous features into categories** – bin numeric features into discrete bins.\n",
    "6. **Aggregating features across groups** – compute group-level statistics like mean, median, etc.\n",
    "7. **Interactions between features** – multiply, divide, or create polynomial combinations of features.\n",
    "8. **Temporal or sequential features** – time since events, day-of-week, seasonal indicators, or differences.\n",
    "9. **Encoding external knowledge** – map raw features to domain-specific insights (e.g., zip→region, text→sentiment).\n",
    "10. **Feature selection / reduction** – reduce dimensionality or remove uninformative features (e.g., PCA, factor analysis)."
   ]
  },
  {
   "cell_type": "code",
   "execution_count": null,
   "id": "e8006177-7ee8-4430-888a-936b1234e57f",
   "metadata": {},
   "outputs": [],
   "source": [
    "import pandas as pd\n",
    "import numpy as np\n",
    "from sklearn.decomposition import PCA\n",
    "\n",
    "# Synthetic dataset\n",
    "np.random.seed(42)\n",
    "n = 20\n",
    "df = pd.DataFrame({\n",
    "    'column0': np.random.randint(1, 10, size=n),\n",
    "    'column1': np.random.randint(10, 50, size=n)\n",
    "})\n",
    "\n",
    "# 1. Combining columns\n",
    "df['sum_col'] = df['column0'] + df['column1']\n",
    "\n",
    "# 2. Splitting a column (simulate time split)\n",
    "df['column1_div_10'] = df['column1'] // 10\n",
    "df['column1_mod_10'] = df['column1'] % 10\n",
    "\n",
    "# 3. Transforming point by point\n",
    "df['log_col1'] = np.log1p(df['column1'])\n",
    "\n",
    "# 4. Transforming by window\n",
    "df['rolling_col1'] = df['column1'].rolling(3, min_periods=1).mean()\n",
    "\n",
    "# 5. Splitting continuous into categories\n",
    "df['col1_bin'] = pd.cut(df['column1'], bins=[10,20,30,40,50], labels=False)\n",
    "\n",
    "# 6. Aggregating across groups (using binned column)\n",
    "df['col1_bin_mean'] = df.groupby('col1_bin')['column1'].transform('mean')\n",
    "\n",
    "# 7. Interactions\n",
    "df['interaction'] = df['column0'] * df['column1']\n",
    "\n",
    "# 8. Temporal/sequential (simulated as index differences)\n",
    "df['diff_col1'] = df['column1'].diff().fillna(0)\n",
    "\n",
    "# 9. Encoding external knowledge (simulated mapping)\n",
    "mapping = {0:'A', 1:'B', 2:'C', 3:'D'}\n",
    "df['col1_category'] = df['col1_bin'].map(mapping)\n",
    "\n",
    "# 10. Feature reduction (PCA on column0 and column1)\n",
    "pca = PCA(n_components=1)\n",
    "df['pca_component'] = pca.fit_transform(df[['column0','column1']])\n",
    "\n",
    "df"
   ]
  },
  {
   "cell_type": "markdown",
   "id": "91909e14-3830-4495-92f3-2388601a260c",
   "metadata": {},
   "source": [
    "## Rolling Average Comparison Demo (Live Demo Friendly)"
   ]
  },
  {
   "cell_type": "code",
   "execution_count": null,
   "id": "f1b43e11-2e38-41db-915d-26c24012e65d",
   "metadata": {},
   "outputs": [],
   "source": [
    "import pandas as pd\n",
    "import numpy as np\n",
    "import matplotlib.pyplot as plt\n",
    "\n",
    "# -----------------------------\n",
    "# Configurable variables\n",
    "# -----------------------------\n",
    "roll_var = 'var2'       # Variable to compute rolling average on\n",
    "sort_var1 = 'date'      # First sort option (time-based)\n",
    "sort_var2 = 'var1'      # Second sort option (value-based)\n",
    "window_size = 5         # Rolling window size (number of observations)\n",
    "\n",
    "# -----------------------------\n",
    "# Create sample dataset\n",
    "# -----------------------------\n",
    "np.random.seed(42)\n",
    "n = 50\n",
    "dates = pd.date_range('2025-01-01', periods=n, freq='D')\n",
    "var1 = np.random.randint(10, 100, size=n)\n",
    "var2 = np.random.normal(loc=50, scale=10, size=n)\n",
    "\n",
    "df = pd.DataFrame({'date': dates, 'var1': var1, 'var2': var2})\n",
    "\n",
    "# -----------------------------\n",
    "# Rolling averages\n",
    "# -----------------------------\n",
    "df_time = df.sort_values(sort_var1).copy()\n",
    "df_time[f'{roll_var}_rolling_time'] = df_time[roll_var].rolling(window=window_size, min_periods=1).mean()\n",
    "\n",
    "df_var1 = df.sort_values(sort_var2).copy()\n",
    "df_var1[f'{roll_var}_rolling_var1'] = df_var1[roll_var].rolling(window=window_size, min_periods=1).mean()\n",
    "\n",
    "# -----------------------------\n",
    "# Side-by-side visualization\n",
    "# -----------------------------\n",
    "fig, axes = plt.subplots(1, 2, figsize=(14,5))\n",
    "\n",
    "# First subplot: rolling by time\n",
    "axes[0].plot(df_time['date'], df_time[roll_var], 'o', alpha=0.3, label=f'Original {roll_var}')\n",
    "axes[0].plot(df_time['date'], df_time[f'{roll_var}_rolling_time'], color='red', linewidth=2, label=f'Rolling by time (window={window_size})')\n",
    "axes[0].set_title('Rolling Average by Time Order')\n",
    "axes[0].set_xlabel('Date')\n",
    "axes[0].set_ylabel(roll_var)\n",
    "axes[0].legend()\n",
    "axes[0].tick_params(axis='x', rotation=45)\n",
    "\n",
    "# Second subplot: rolling by var1 order, x-axis is var1\n",
    "axes[1].plot(df_var1[sort_var2], df_var1[roll_var], 'o', alpha=0.3, label=f'Original {roll_var}')\n",
    "axes[1].plot(df_var1[sort_var2], df_var1[f'{roll_var}_rolling_var1'], color='darkgreen', linewidth=2, label=f'Rolling by {sort_var2} order (window={window_size})')\n",
    "axes[1].set_title(f'Rolling Average by {sort_var2} Order')\n",
    "axes[1].set_xlabel(sort_var2)\n",
    "axes[1].set_ylabel(roll_var)\n",
    "axes[1].legend()\n",
    "axes[1].tick_params(axis='x', rotation=0)  # numeric x-axis, no rotation needed\n",
    "\n",
    "plt.tight_layout()\n",
    "plt.show()\n",
    "\n",
    "\n",
    "# -----------------------------\n",
    "# Combined visualization (green points with dotted line by time)\n",
    "# -----------------------------\n",
    "plt.figure(figsize=(10,5))\n",
    "\n",
    "# Original values (plotted by date)\n",
    "plt.plot(df_time['date'], df_time[roll_var], 'o', alpha=0.4, label=f'Original {roll_var}')\n",
    "\n",
    "# Rolling by time (red line)\n",
    "plt.plot(df_time['date'], df_time[f'{roll_var}_rolling_time'], color='red', linewidth=2, label=f'Rolling by time (window={window_size})')\n",
    "\n",
    "# Rolling by var1 order, connect by date\n",
    "df_var1_sorted_by_date = df_var1.sort_values('date')\n",
    "plt.scatter(df_var1_sorted_by_date['date'], df_var1_sorted_by_date[f'{roll_var}_rolling_var1'], color='green', label=f'Rolling by {sort_var2} order (window={window_size})')\n",
    "plt.plot(df_var1_sorted_by_date['date'], df_var1_sorted_by_date[f'{roll_var}_rolling_var1'], color='green', linestyle=':', alpha=0.6)\n",
    "\n",
    "plt.title('Rolling Averages Comparison (Combined)')\n",
    "plt.xlabel('Date')\n",
    "plt.ylabel(roll_var)\n",
    "plt.legend()\n",
    "plt.xticks(rotation=45)\n",
    "plt.tight_layout()\n",
    "plt.show()\n",
    "\n",
    "\n",
    "\n",
    "# -----------------------------\n",
    "# Explanation:\n",
    "# -----------------------------\n",
    "# - Rolling by time shows trends of the selected variable over chronological order.\n",
    "# - Rolling by sort_var2 shows trends when ordering by another variable (magnitude-based).\n",
    "# - Side-by-side plots and combined plot let you compare these smoothing methods.\n",
    "# - Changing roll_var, sort_var1, sort_var2, or window_size at the top updates all plots immediately."
   ]
  }
 ],
 "metadata": {
  "kernelspec": {
   "display_name": "Python 3 (ipykernel)",
   "language": "python",
   "name": "python3"
  },
  "language_info": {
   "codemirror_mode": {
    "name": "ipython",
    "version": 3
   },
   "file_extension": ".py",
   "mimetype": "text/x-python",
   "name": "python",
   "nbconvert_exporter": "python",
   "pygments_lexer": "ipython3",
   "version": "3.10.18"
  }
 },
 "nbformat": 4,
 "nbformat_minor": 5
}
