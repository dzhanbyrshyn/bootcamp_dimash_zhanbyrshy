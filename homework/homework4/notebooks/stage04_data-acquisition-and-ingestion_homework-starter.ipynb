{
 "cells": [
  {
   "cell_type": "markdown",
   "id": "c69b3172",
   "metadata": {},
   "source": [
    "# Homework Starter — Stage 04: Data Acquisition and Ingestion\n",
    "Name: Dimash Zhanbyrshy\n",
    "Date: 08/20/2025\n",
    "\n",
    "## Objectives\n",
    "- API ingestion with secrets in `.env`\n",
    "- Scrape a permitted public table\n",
    "- Validate and save raw data to `data/raw/`"
   ]
  },
  {
   "cell_type": "code",
   "execution_count": 18,
   "id": "def67d51",
   "metadata": {},
   "outputs": [
    {
     "name": "stdout",
     "output_type": "stream",
     "text": [
      "ALPHAVANTAGE_API_KEY loaded? False\n"
     ]
    }
   ],
   "source": [
    "import os, pathlib, datetime as dt\n",
    "import requests, time\n",
    "import pandas as pd\n",
    "from bs4 import BeautifulSoup\n",
    "from dotenv import load_dotenv\n",
    "\n",
    "RAW = pathlib.Path('../data/raw'); RAW.mkdir(parents=True, exist_ok=True)\n",
    "load_dotenv(); print('ALPHAVANTAGE_API_KEY loaded?', bool(os.getenv('ALPHAVANTAGE_API_KEY')))"
   ]
  },
  {
   "cell_type": "markdown",
   "id": "1e1174ff",
   "metadata": {},
   "source": [
    "## Helpers (use or modify)"
   ]
  },
  {
   "cell_type": "code",
   "execution_count": 19,
   "id": "7d15c6a6",
   "metadata": {},
   "outputs": [],
   "source": [
    "def ts():\n",
    "    return dt.datetime.now().strftime('%Y%m%d-%H%M%S')\n",
    "\n",
    "def save_csv(df: pd.DataFrame, prefix: str, **meta):\n",
    "    mid = '_'.join([f\"{k}-{v}\" for k,v in meta.items()])\n",
    "    path = RAW / f\"{prefix}_{mid}_{ts()}.csv\"\n",
    "    df.to_csv(path, index=False)\n",
    "    print('Saved', path)\n",
    "    return path\n",
    "\n",
    "def validate(df: pd.DataFrame, required):\n",
    "    missing = [c for c in required if c not in df.columns]\n",
    "    return {'missing': missing, 'shape': df.shape, 'na_total': int(df.isna().sum().sum())}"
   ]
  },
  {
   "cell_type": "markdown",
   "id": "1ce35e9e",
   "metadata": {},
   "source": [
    "## Part 1 — API Pull (Required)\n",
    "Choose an endpoint (e.g., Alpha Vantage or use `yfinance` fallback)."
   ]
  },
  {
   "cell_type": "code",
   "execution_count": 20,
   "id": "5f13be74",
   "metadata": {},
   "outputs": [
    {
     "name": "stdout",
     "output_type": "stream",
     "text": [
      "Saved ../data/raw/api_source-coinbase_symbol-BTCUSD_window-20250523_to_20250821_granularity-1h_20250821-150131.csv\n",
      "Saved ../data/raw/api_source-coinbase_symbol-ETHUSD_window-20250523_to_20250821_granularity-1h_20250821-150140.csv\n",
      "BTC-USD                        time        low       high       open      close  \\\n",
      "0 2025-05-23 19:00:00+00:00  108626.43  109222.20  108822.72  108747.25   \n",
      "1 2025-05-23 20:00:00+00:00  108205.69  108755.59  108744.54  108261.23   \n",
      "2 2025-05-23 21:00:00+00:00  108078.86  108700.00  108261.24  108320.71   \n",
      "\n",
      "       volume  \n",
      "0  970.097006  \n",
      "1  452.581600  \n",
      "2  225.371478  \n",
      "ETH-USD                        time      low     high     open    close       volume\n",
      "0 2025-05-23 19:00:00+00:00  2556.54  2576.15  2560.35  2560.99  8207.541172\n",
      "1 2025-05-23 20:00:00+00:00  2527.00  2563.32  2561.09  2543.89  6278.149993\n",
      "2 2025-05-23 21:00:00+00:00  2527.92  2554.12  2543.56  2535.03  2905.645630\n"
     ]
    }
   ],
   "source": [
    "# Choose one ticker or endpoint\n",
    "BASE_URL = \"https://api.exchange.coinbase.com\"\n",
    "GRANULARITY = 3600      # 1h candles\n",
    "MAX_CANDLES = 300       # per-request limit\n",
    "\n",
    "def _iso(utc_dt):\n",
    "    return utc_dt.astimezone(dt.timezone.utc).strftime(\"%Y-%m-%dT%H:%M:%SZ\")\n",
    "\n",
    "def fetch_candles_coinbase(product_id, start_dt, end_dt, granularity=GRANULARITY, pause_sec=0.25):\n",
    "    # Request data with requests (or yfinance as fallback)\n",
    "    rows = []\n",
    "    step = dt.timedelta(seconds=granularity * MAX_CANDLES)\n",
    "    t0 = start_dt\n",
    "    while t0 < end_dt:\n",
    "        t1 = min(t0 + step, end_dt)\n",
    "        params = {\"start\": _iso(t0), \"end\": _iso(t1), \"granularity\": granularity}\n",
    "        r = requests.get(f\"{BASE_URL}/products/{product_id}/candles\", params=params, timeout=30)\n",
    "        r.raise_for_status()\n",
    "        rows.extend(r.json())   # [time, low, high, open, close, volume]\n",
    "        t0 = t1\n",
    "        time.sleep(pause_sec)\n",
    "\n",
    "    # Convert to DataFrame; parse dtypes (dates, floats)\n",
    "    df = pd.DataFrame(rows, columns=[\"time\",\"low\",\"high\",\"open\",\"close\",\"volume\"]).sort_values(\"time\")\n",
    "    df[\"time\"] = pd.to_datetime(df[\"time\"], unit=\"s\", utc=True)\n",
    "    for c in [\"low\",\"high\",\"open\",\"close\",\"volume\"]:\n",
    "        df[c] = pd.to_numeric(df[c], errors=\"coerce\")\n",
    "\n",
    "    # Validate (required columns, NA counts, shape)\n",
    "    rep = validate(df, required=[\"time\",\"open\",\"high\",\"low\",\"close\",\"volume\"])\n",
    "    if rep[\"missing\"] or rep[\"na_total\"] > 0 or rep[\"shape\"][0] == 0:\n",
    "        raise ValueError(f\"Validation failed: {rep}\")\n",
    "    return df.reset_index(drop=True)\n",
    "\n",
    "# choose symbols + window\n",
    "pairs = [\"BTC-USD\", \"ETH-USD\"]\n",
    "end_dt = dt.datetime.now(dt.timezone.utc).replace(minute=0, second=0, microsecond=0)\n",
    "start_dt = end_dt - dt.timedelta(days=90)\n",
    "\n",
    "dfs = {}\n",
    "for pid in pairs:\n",
    "    df_api = fetch_candles_coinbase(pid, start_dt, end_dt, GRANULARITY)\n",
    "    window = f\"{start_dt:%Y%m%d}_to_{end_dt:%Y%m%d}\"\n",
    "    # Save raw CSV to data/raw/\n",
    "    _ = save_csv(\n",
    "        df_api.sort_values(\"time\"),\n",
    "        prefix=\"api\",\n",
    "        source=\"coinbase\",\n",
    "        symbol=pid.replace(\"-\", \"\"),\n",
    "        window=window,\n",
    "        granularity=\"1h\"\n",
    "    )\n",
    "    dfs[pid] = df_api\n",
    "\n",
    "# quick peek\n",
    "for k, v in dfs.items():\n",
    "    print(k, v.head(3))"
   ]
  },
  {
   "cell_type": "markdown",
   "id": "498d0c6f",
   "metadata": {},
   "source": [
    "## Part 2 — Scrape a Public Table (Required)\n",
    "Replace `SCRAPE_URL` with a permitted page containing a simple table."
   ]
  },
  {
   "cell_type": "code",
   "execution_count": 16,
   "id": "9039ea2c",
   "metadata": {},
   "outputs": [
    {
     "name": "stdout",
     "output_type": "stream",
     "text": [
      "Saved ../data/raw/scrape_source-wikipedia_page-cryptocurrencies_20250821-145540.csv\n"
     ]
    }
   ],
   "source": [
    "# Public, permitted page with a simple table\n",
    "SCRAPE_URL = 'https://en.wikipedia.org/wiki/List_of_cryptocurrencies'  # permitted page\n",
    "headers = {'User-Agent': 'AFE-Homework/1.0'}\n",
    "\n",
    "try:\n",
    "    resp = requests.get(SCRAPE_URL, headers=headers, timeout=30); resp.raise_for_status()\n",
    "    soup = BeautifulSoup(resp.text, 'html.parser')  # match starter parser\n",
    "\n",
    "    # Parse with BeautifulSoup; build DataFrame\n",
    "    rows = [[c.get_text(strip=True) for c in tr.find_all(['th','td'])] for tr in soup.find_all('tr')]\n",
    "    header, *data = [r for r in rows if r]\n",
    "\n",
    "    # Keep only rows that match header length (prevents shape errors if page has multiple tables)\n",
    "    data = [r for r in data if len(r) == len(header)]\n",
    "\n",
    "    df_scrape = pd.DataFrame(data, columns=header)\n",
    "\n",
    "except Exception as e:\n",
    "    print('Scrape failed, using inline demo table:', e)\n",
    "    html = '<table><tr><th>Ticker</th><th>Price</th></tr><tr><td>AAA</td><td>101.2</td></tr></table>'\n",
    "    soup = BeautifulSoup(html, 'html.parser')\n",
    "    rows = [[c.get_text(strip=True) for c in tr.find_all(['th','td'])] for tr in soup.find_all('tr')]\n",
    "    header, *data = [r for r in rows if r]\n",
    "    df_scrape = pd.DataFrame(data, columns=header)\n",
    "\n",
    "# Validate numeric/text columns\n",
    "v_scrape = validate(df_scrape, list(df_scrape.columns)); v_scrape\n",
    "\n",
    "# Save raw CSV to data/raw/\n",
    "_ = save_csv(df_scrape, prefix='scrape', source='wikipedia', page='cryptocurrencies')"
   ]
  },
  {
   "cell_type": "markdown",
   "id": "d2819c52-13eb-49f1-82af-fdc7dcdabd24",
   "metadata": {},
   "source": [
    "## Documentation\n",
    "\n",
    "### API Source\n",
    "- **URL/endpoint:** `GET https://api.exchange.coinbase.com/products/{product_id}/candles`\n",
    "- **Symbols:** `BTC-USD`, `ETH-USD`\n",
    "- **Params used:** `start` (ISO UTC), `end` (ISO UTC), `granularity=3600` (1h)\n",
    "- **Validation run:** required columns `['time','open','high','low','close','volume']`; numeric coercion for OHLCV; non-empty shape; total NAs = 0; timestamps ascending\n",
    "- **Saved via:** `save_csv(..., prefix='api', source='coinbase', symbol=<BTCUSD|ETHUSD>, window=<YYYYMMDD_to_YYYYMMDD>, granularity='1h')`\n",
    "\n",
    "### Scrape Source\n",
    "- **URL:** `https://en.wikipedia.org/wiki/List_of_cryptocurrencies`\n",
    "- **Table description:** first suitable `wikitable`; header from first non-empty row; kept rows matching header length\n",
    "- **Validation run:** passed all columns to `validate(...)`; confirmed non-empty table and consistent row lengths; no numeric coercion applied because columns are text-only\n",
    "- **Saved via:** `save_csv(df_scrape, prefix='scrape', source='wikipedia', page='cryptocurrencies')`\n",
    "\n",
    "### Assumptions & Risks\n",
    "- **API:** per-request max of ~300 candles handled via time-window iteration; possible schema or rate-limit changes; data treated as UTC\n",
    "- **Scrape:** page structure may change; header detection could shift if tables reorder\n",
    "\n",
    "### `.env` Confirmation\n",
    "- Coinbase candles require no key; `.env` (if used later) is **not committed** (`.env`, `.env.*` in `.gitignore`)"
   ]
  }
 ],
 "metadata": {
  "kernelspec": {
   "display_name": "Python (fe-course",
   "language": "python",
   "name": "fe-course"
  },
  "language_info": {
   "codemirror_mode": {
    "name": "ipython",
    "version": 3
   },
   "file_extension": ".py",
   "mimetype": "text/x-python",
   "name": "python",
   "nbconvert_exporter": "python",
   "pygments_lexer": "ipython3",
   "version": "3.11.13"
  }
 },
 "nbformat": 4,
 "nbformat_minor": 5
}
