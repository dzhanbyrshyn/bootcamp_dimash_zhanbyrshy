{
 "cells": [
  {
   "cell_type": "code",
   "execution_count": 22,
   "id": "389a6854-8d49-45e4-bc8e-00e11b525511",
   "metadata": {},
   "outputs": [],
   "source": [
    "import numpy as np\n",
    "import pandas as pd\n",
    "import matplotlib.pyplot as plt\n",
    "from datetime import datetime\n",
    "import time"
   ]
  },
  {
   "cell_type": "markdown",
   "id": "61b874a8-30de-4a79-b1ab-a907db896764",
   "metadata": {},
   "source": [
    "## NumPy Operations"
   ]
  },
  {
   "cell_type": "code",
   "execution_count": 23,
   "id": "cd5cb5a4-bc00-4755-b6b5-4833dd436704",
   "metadata": {},
   "outputs": [
    {
     "name": "stdout",
     "output_type": "stream",
     "text": [
      "First 10 elements (original): [0 1 2 3 4 5 6 7 8 9]\n",
      "First 10 elements (+5): [ 5  6  7  8  9 10 11 12 13 14]\n",
      "First 10 elements (squared): [ 0  1  4  9 16 25 36 49 64 81]\n",
      "\n",
      "Loop time:       0.000690 seconds\n",
      "Vectorized time: 0.000159 seconds\n",
      "Speedup:         4.33x faster\n"
     ]
    }
   ],
   "source": [
    "# Create an array and perform elementwise operations\n",
    "arr = np.arange(1_000)             # array: 0, 1, 2, ..., 999\n",
    "arr_plus_5 = arr + 5               # add 5 to each element\n",
    "arr_squared = arr ** 2             # square each element\n",
    "\n",
    "print(\"First 10 elements (original):\", arr[:10])\n",
    "print(\"First 10 elements (+5):\", arr_plus_5[:10])\n",
    "print(\"First 10 elements (squared):\", arr_squared[:10])\n",
    "\n",
    "# Compare loop vs vectorized execution for y = 3x^2 + 2x + 1\n",
    "# Loop\n",
    "start = time.perf_counter()\n",
    "y_loop = [3*x**2 + 2*x + 1 for x in arr]\n",
    "loop_time = time.perf_counter() - start\n",
    "\n",
    "# Vectorized\n",
    "start = time.perf_counter()\n",
    "y_vec = 3 * arr**2 + 2 * arr + 1\n",
    "vec_time = time.perf_counter() - start\n",
    "\n",
    "print(f\"\\nLoop time:       {loop_time:.6f} seconds\")\n",
    "print(f\"Vectorized time: {vec_time:.6f} seconds\")\n",
    "print(f\"Speedup:         {loop_time / vec_time:.2f}x faster\")"
   ]
  },
  {
   "cell_type": "markdown",
   "id": "ea37e362-a4cc-4da2-bd65-9bbdbe602ee4",
   "metadata": {},
   "source": [
    "## Dataset Loading"
   ]
  },
  {
   "cell_type": "code",
   "execution_count": 24,
   "id": "b1f88d41-3aa6-4c2c-9097-c1a20b5294e3",
   "metadata": {},
   "outputs": [
    {
     "name": "stdout",
     "output_type": "stream",
     "text": [
      "<class 'pandas.core.frame.DataFrame'>\n",
      "RangeIndex: 10 entries, 0 to 9\n",
      "Data columns (total 3 columns):\n",
      " #   Column    Non-Null Count  Dtype \n",
      "---  ------    --------------  ----- \n",
      " 0   category  10 non-null     object\n",
      " 1   value     10 non-null     int64 \n",
      " 2   date      10 non-null     object\n",
      "dtypes: int64(1), object(2)\n",
      "memory usage: 372.0+ bytes\n",
      "None\n",
      "  category  value        date\n",
      "0        A     10  2025-08-01\n",
      "1        B     15  2025-08-02\n",
      "2        A     12  2025-08-03\n",
      "3        B     18  2025-08-04\n",
      "4        C     25  2025-08-05\n"
     ]
    }
   ],
   "source": [
    "# Load provided CSV using pandas\n",
    "df = pd.read_csv(\"../data/raw/starter_data.csv\")\n",
    "\n",
    "# Inspect the dataset\n",
    "print(df.info())\n",
    "print(df.head())\n"
   ]
  },
  {
   "cell_type": "markdown",
   "id": "5930b360-062e-4f56-84ec-5dfb92744c45",
   "metadata": {},
   "source": [
    "## Summary Statistics"
   ]
  },
  {
   "cell_type": "code",
   "execution_count": 25,
   "id": "f44dcd3d-b584-4fb8-9302-b315947013ec",
   "metadata": {},
   "outputs": [
    {
     "name": "stdout",
     "output_type": "stream",
     "text": [
      "           value\n",
      "count  10.000000\n",
      "mean   17.600000\n",
      "std     7.381659\n",
      "min    10.000000\n",
      "25%    12.250000\n",
      "50%    14.500000\n",
      "75%    23.250000\n",
      "max    30.000000\n",
      "  category      value\n",
      "0        A  11.500000\n",
      "1        B  15.666667\n",
      "2        C  27.666667\n"
     ]
    }
   ],
   "source": [
    "# Summary statistics for numeric columns\n",
    "print(df.describe())\n",
    "\n",
    "# Grouped aggregation by a categorical column\n",
    "summary = df.groupby('category').mean(numeric_only=True).reset_index()\n",
    "print(summary)"
   ]
  },
  {
   "cell_type": "markdown",
   "id": "0b9ec3fa-3ba5-4146-9ee4-279386c14547",
   "metadata": {},
   "source": [
    "## Save Outputs"
   ]
  },
  {
   "cell_type": "code",
   "execution_count": 26,
   "id": "83ce2826-70b8-46ae-9974-a8f7dea4dff0",
   "metadata": {},
   "outputs": [
    {
     "name": "stdout",
     "output_type": "stream",
     "text": [
      "Summary saved to data/processed/summary.csv\n",
      "Plot saved to data/processed/summary_plot.png\n"
     ]
    },
    {
     "data": {
      "image/png": "[encoded data removed]",
      "text/plain": [
       "<Figure size 640x480 with 1 Axes>"
      ]
     },
     "metadata": {},
     "output_type": "display_data"
    }
   ],
   "source": [
    "# Save summary stats to CSV\n",
    "summary.to_csv(\"../data/processed/summary.csv\", index=False)\n",
    "print(\"Summary saved to data/processed/summary.csv\")\n",
    "\n",
    "# Bonus: Create and save a basic plot\n",
    "summary.plot(x='category', y=summary.columns[1], kind='bar', title='Average by Category')\n",
    "plt.xlabel('Category')\n",
    "plt.ylabel('Average Value')\n",
    "plt.tight_layout()\n",
    "plt.savefig(\"../data/processed/summary_plot.png\")\n",
    "print(\"Plot saved to data/processed/summary_plot.png\")"
   ]
  },
  {
   "cell_type": "markdown",
   "id": "3bdd9c20-ed91-4a57-b9ef-5498a2b232a6",
   "metadata": {},
   "source": [
    "## Reusable Functions"
   ]
  },
  {
   "cell_type": "code",
   "execution_count": 27,
   "id": "4fd9261d-5b86-432f-b150-90c49e46438e",
   "metadata": {},
   "outputs": [
    {
     "name": "stdout",
     "output_type": "stream",
     "text": [
      "  category      value\n",
      "0        A  11.500000\n",
      "1        B  15.666667\n",
      "2        C  27.666667\n"
     ]
    }
   ],
   "source": [
    "# Utility function to summarize numeric columns by category\n",
    "def get_summary_stats(df, category_col):\n",
    "    \"\"\"\n",
    "    Returns mean values of numeric columns grouped by the given category column.\n",
    "    \"\"\"\n",
    "    summary = df.groupby(category_col).mean(numeric_only=True).reset_index()\n",
    "    return summary\n",
    "\n",
    "# Example usage\n",
    "summary = get_summary_stats(df, 'category')\n",
    "print(summary)"
   ]
  },
  {
   "cell_type": "code",
   "execution_count": 33,
   "id": "09499e5f-9ba0-40aa-b4c9-7d2c01b9e7ce",
   "metadata": {},
   "outputs": [
    {
     "name": "stdout",
     "output_type": "stream",
     "text": [
      "  category      value\n",
      "0        A  11.500000\n",
      "1        B  15.666667\n",
      "2        C  27.666667\n"
     ]
    }
   ],
   "source": [
    "# Bonus: move function to src/utils.py and import it\n",
    "import sys, os\n",
    "sys.path.insert(0, os.path.abspath(\"..\"))  # go up one level to homework3/\n",
    "from src.utils import get_summary_stats\n",
    "\n",
    "summary = get_summary_stats(df, 'category')\n",
    "print(summary)"
   ]
  }
 ],
 "metadata": {
  "kernelspec": {
   "display_name": "Python (fe-course",
   "language": "python",
   "name": "fe-course"
  },
  "language_info": {
   "codemirror_mode": {
    "name": "ipython",
    "version": 3
   },
   "file_extension": ".py",
   "mimetype": "text/x-python",
   "name": "python",
   "nbconvert_exporter": "python",
   "pygments_lexer": "ipython3",
   "version": "3.11.13"
  }
 },
 "nbformat": 4,
 "nbformat_minor": 5
}
